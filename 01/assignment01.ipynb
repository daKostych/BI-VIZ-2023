{
 "cells": [
  {
   "cell_type": "markdown",
   "id": "fdda746b",
   "metadata": {},
   "source": [
    "# Domácí úkol č. 1 - 🕵️‍♀️ Explorační analýza dat\n",
    "\n",
    "## 📚 Data\n",
    "V souborech `intakes.csv` a `outcomes.csv` naleznete data z útulku ve městě Austin, Texas USA. Data pocházejí z oficiálního [zdroje otevřených dat města Austin](https://data.austintexas.gov/).\n",
    "\n",
    "Dataset [intakes](https://data.austintexas.gov/Health-and-Community-Services/Austin-Animal-Center-Intakes/wter-evkm) obsahuje data o přijatých zvířatech od 1. 10. 2013 do 27. 4 2022. Dataset [outcomes](https://data.austintexas.gov/Health-and-Community-Services/Austin-Animal-Center-Outcomes/9t4d-g238) obsahuje údaje o zvířatech, která útulek opustila (např. byla adoptována, vrácena majiteli a podobně) za tentýž časový interval. Může se stát, že zvířata přijatá do 1. 10. 2013 se nevyskytují v `intakes.csv` (data se ještě neshromažďovala), ale budou mít záznam v `outcomes.csv`, pokud útulek po tomto datu opustila.\n",
    "\n",
    "☝️ Každý dataset může **stejné zvíře obsahovat víckrát** (1. některá zvířata se do útulku vracela - to je trochu komplikace, pokud byste datasety chtěli spojit - pro řešení úkolu spojování ale není nutné, 2. některé záznamy jsou duplicitní - ty můžete odstranit, jedná se o chybu). \n",
    "\n",
    "## Zadání\n",
    "> ☝️ Používejte markdown buňky! Zdůvodňujte všechny důležité kroky, popisujte vizualizace a co je z nich možné pozorovat. Za nepřehledný domácí úkol nebudou uděleny body.\n",
    "\n",
    "Za řádné průběžné komentování a vizuální prezentaci postupu a výsledků lze získat až 3 body.\n",
    "\n",
    "**✨ Příprava dat** (celkem 4 body)\n",
    "* Importujte potřebné balíčky.\n",
    "* Načtěte si datasety intakes a outcomes z příslušných csv souborů.\n",
    "* Seznamte se s oběma datasety a svá zjištění komentujte:\n",
    "  * Příklad informací, které lze zjistit: počet řádků datasetu, počet a význam příznaků, datový typ příznaků a počet jejich unikátních hodnot, ...\n",
    "* Vyčistěte a zkonvertujte data:\n",
    "  * Zjistěte jakým způsobem jsou v datasetu uváděny chybějící hodnoty a v případě potřeby je přepište na NaN.\n",
    "  * Zkonvertujte kategorické příznaky na typ category.\n",
    "  * Převeďte příznak Age upon Intake/Outcome na numerický příznak.\n",
    "  * Převeďte příznak DateTime na typ datetime64.\n",
    "  * Proveďte všechny další úpravy, které vám dávají smysl (konverze dalších příznaků, odstranění duplicitních údajů, přidání nových příznaků, ...).\n",
    "  \n",
    "**🖊️ Deskriptivní statistiky** (celkem 6 bodů)\n",
    "\n",
    "Volbu vhodných statistik pro daný typ dat komentujte a pokud je to možné, využívejte co nejvíce vizualizace.\n",
    "* Popište příznaky Age upon Intake a DateTime (původně z datasetu intakes) pomocí univariačních deskriptivních statistik.\n",
    "* Vyberte si tři další příznaky a popište je pomocí univariačních deskriptivních statistik, které jsou pro ně vhodné.\n",
    "* Vyberte si dva příznaky, mezi kterými by mohl být nějaký vztah (např. korelace) a popište tento vztah pomocí bivariačních deskriptivních statistik. Dvojice typu Age upon Intake a Age upon Outcome neuznáváme.\n",
    "\n",
    "**❓ Zadané otázky** (2 body za každou otázku, celkem max. 6 bodů)\n",
    "\n",
    "Pomocí vhodných vizualizací odpovídejte na následující otázky:\n",
    "* Závisí typ odchodu zvířete z útulku (Outcome Type) na typu příchodu (Intake Type)? Pokud chcete, uvažujte pro zjednodušení pouze zvířata, která se v každém datasetu vyskytují právě jednou.\n",
    "* Hraje věk zvířete roli při adopci?\n",
    "* Je příjem zvířat v rámci roku konstantní nebo existují období s větší/nižší zátěží?\n",
    "\n",
    "K jedné otázce můžete v případě potřeby vytvořit více vizualizací. Výsledek vizualizace a všechny mezikroky komentujte.\n",
    "\n",
    "**❓ Vlastní otázky** (2 body za každou otázku, celkem max. 6 bodů)\n",
    "\n",
    "Vymyslete **minimálně tři** vlastní otázky a odpovídejte na ně vhodnými vizualizacemi. Otázky můžete postavit na již zmíněných datasetech. Také je možné využít třetí dataset [locations](https://data.austintexas.gov/Health-and-Community-Services/Austin-Animal-Center-Found-Pets-Map/hye6-gvq2), který naleznete v souboru locations.csv, nebo si můžete stáhnout nějaká další zajímavá data, která souvisí s tímto tématem.\n",
    "\n",
    "Dataset locations poskytuje informace o všech toulavých kočkách a psech, které jsou v databázi útulku **méně než týden**. Většina se nachází v útulku, ale část z nich je u dobrovolníků – tato informace je uvedena ve sloupci At AAC (AAC – Austin Animal Center).\n",
    "\n",
    "### Bodové hodnocení\n",
    "Shrnutí bodů, které můžete nejvýše získat:\n",
    "- 3 body za komentáře a vizuální prezentaci postupu a výsledků,\n",
    "- 4 body za přípravu dat,\n",
    "- 6 bodů za deskriptivní statistiku,\n",
    "- 6 bodů za zodpovězení všech zadaných otázek,\n",
    "- 6 bodů za definici a zodpovězení minimálně tří vlastních otázek.\n",
    "\n",
    "Celkem lze za domácí úkol č. 1 získat maximálně 25 bodů."
   ]
  },
  {
   "cell_type": "markdown",
   "id": "f2cb3a89",
   "metadata": {},
   "source": [
    "# ✨ Příprava dat"
   ]
  },
  {
   "cell_type": "code",
   "execution_count": 2,
   "id": "8b399f1c",
   "metadata": {
    "ExecuteTime": {
     "end_time": "2023-10-22T10:53:57.531694906Z",
     "start_time": "2023-10-22T10:53:57.491014344Z"
    }
   },
   "outputs": [],
   "source": [
    "import pandas as pd\n",
    "import numpy as np"
   ]
  },
  {
   "cell_type": "markdown",
   "id": "984bc35a",
   "metadata": {},
   "source": [
    "Načtení dat z CSV souborů"
   ]
  },
  {
   "cell_type": "code",
   "execution_count": 3,
   "id": "846305ce",
   "metadata": {
    "ExecuteTime": {
     "end_time": "2023-10-22T10:53:58.381640006Z",
     "start_time": "2023-10-22T10:53:57.769892975Z"
    }
   },
   "outputs": [],
   "source": [
    "intakes = pd.read_csv('intakes.csv')\n",
    "outcomes = pd.read_csv('outcomes.csv')"
   ]
  },
  {
   "cell_type": "markdown",
   "id": "28bd014c",
   "metadata": {},
   "source": [
    "Přehled prvních pěti řádků datasetu \"intakes\""
   ]
  },
  {
   "cell_type": "code",
   "execution_count": 4,
   "id": "edec8256",
   "metadata": {
    "ExecuteTime": {
     "end_time": "2023-10-22T10:53:58.401541370Z",
     "start_time": "2023-10-22T10:53:58.366136782Z"
    }
   },
   "outputs": [
    {
     "data": {
      "text/html": [
       "<div>\n",
       "<style scoped>\n",
       "    .dataframe tbody tr th:only-of-type {\n",
       "        vertical-align: middle;\n",
       "    }\n",
       "\n",
       "    .dataframe tbody tr th {\n",
       "        vertical-align: top;\n",
       "    }\n",
       "\n",
       "    .dataframe thead th {\n",
       "        text-align: right;\n",
       "    }\n",
       "</style>\n",
       "<table border=\"1\" class=\"dataframe\">\n",
       "  <thead>\n",
       "    <tr style=\"text-align: right;\">\n",
       "      <th></th>\n",
       "      <th>Animal ID</th>\n",
       "      <th>Name</th>\n",
       "      <th>DateTime</th>\n",
       "      <th>MonthYear</th>\n",
       "      <th>Found Location</th>\n",
       "      <th>Intake Type</th>\n",
       "      <th>Intake Condition</th>\n",
       "      <th>Animal Type</th>\n",
       "      <th>Sex upon Intake</th>\n",
       "      <th>Age upon Intake</th>\n",
       "      <th>Breed</th>\n",
       "      <th>Color</th>\n",
       "    </tr>\n",
       "  </thead>\n",
       "  <tbody>\n",
       "    <tr>\n",
       "      <th>0</th>\n",
       "      <td>A786884</td>\n",
       "      <td>*Brock</td>\n",
       "      <td>01/03/2019 04:19:00 PM</td>\n",
       "      <td>January 2019</td>\n",
       "      <td>2501 Magin Meadow Dr in Austin (TX)</td>\n",
       "      <td>Stray</td>\n",
       "      <td>Normal</td>\n",
       "      <td>Dog</td>\n",
       "      <td>Neutered Male</td>\n",
       "      <td>2 years</td>\n",
       "      <td>Beagle Mix</td>\n",
       "      <td>Tricolor</td>\n",
       "    </tr>\n",
       "    <tr>\n",
       "      <th>1</th>\n",
       "      <td>A706918</td>\n",
       "      <td>Belle</td>\n",
       "      <td>07/05/2015 12:59:00 PM</td>\n",
       "      <td>July 2015</td>\n",
       "      <td>9409 Bluegrass Dr in Austin (TX)</td>\n",
       "      <td>Stray</td>\n",
       "      <td>Normal</td>\n",
       "      <td>Dog</td>\n",
       "      <td>Spayed Female</td>\n",
       "      <td>8 years</td>\n",
       "      <td>English Springer Spaniel</td>\n",
       "      <td>White/Liver</td>\n",
       "    </tr>\n",
       "    <tr>\n",
       "      <th>2</th>\n",
       "      <td>A724273</td>\n",
       "      <td>Runster</td>\n",
       "      <td>04/14/2016 06:43:00 PM</td>\n",
       "      <td>April 2016</td>\n",
       "      <td>2818 Palomino Trail in Austin (TX)</td>\n",
       "      <td>Stray</td>\n",
       "      <td>Normal</td>\n",
       "      <td>Dog</td>\n",
       "      <td>Intact Male</td>\n",
       "      <td>11 months</td>\n",
       "      <td>Basenji Mix</td>\n",
       "      <td>Sable/White</td>\n",
       "    </tr>\n",
       "    <tr>\n",
       "      <th>3</th>\n",
       "      <td>A665644</td>\n",
       "      <td>NaN</td>\n",
       "      <td>10/21/2013 07:59:00 AM</td>\n",
       "      <td>October 2013</td>\n",
       "      <td>Austin (TX)</td>\n",
       "      <td>Stray</td>\n",
       "      <td>Sick</td>\n",
       "      <td>Cat</td>\n",
       "      <td>Intact Female</td>\n",
       "      <td>4 weeks</td>\n",
       "      <td>Domestic Shorthair Mix</td>\n",
       "      <td>Calico</td>\n",
       "    </tr>\n",
       "    <tr>\n",
       "      <th>4</th>\n",
       "      <td>A682524</td>\n",
       "      <td>Rio</td>\n",
       "      <td>06/29/2014 10:38:00 AM</td>\n",
       "      <td>June 2014</td>\n",
       "      <td>800 Grove Blvd in Austin (TX)</td>\n",
       "      <td>Stray</td>\n",
       "      <td>Normal</td>\n",
       "      <td>Dog</td>\n",
       "      <td>Neutered Male</td>\n",
       "      <td>4 years</td>\n",
       "      <td>Doberman Pinsch/Australian Cattle Dog</td>\n",
       "      <td>Tan/Gray</td>\n",
       "    </tr>\n",
       "  </tbody>\n",
       "</table>\n",
       "</div>"
      ],
      "text/plain": [
       "  Animal ID     Name                DateTime     MonthYear  \\\n",
       "0   A786884   *Brock  01/03/2019 04:19:00 PM  January 2019   \n",
       "1   A706918    Belle  07/05/2015 12:59:00 PM     July 2015   \n",
       "2   A724273  Runster  04/14/2016 06:43:00 PM    April 2016   \n",
       "3   A665644      NaN  10/21/2013 07:59:00 AM  October 2013   \n",
       "4   A682524      Rio  06/29/2014 10:38:00 AM     June 2014   \n",
       "\n",
       "                        Found Location Intake Type Intake Condition  \\\n",
       "0  2501 Magin Meadow Dr in Austin (TX)       Stray           Normal   \n",
       "1     9409 Bluegrass Dr in Austin (TX)       Stray           Normal   \n",
       "2   2818 Palomino Trail in Austin (TX)       Stray           Normal   \n",
       "3                          Austin (TX)       Stray             Sick   \n",
       "4        800 Grove Blvd in Austin (TX)       Stray           Normal   \n",
       "\n",
       "  Animal Type Sex upon Intake Age upon Intake  \\\n",
       "0         Dog   Neutered Male         2 years   \n",
       "1         Dog   Spayed Female         8 years   \n",
       "2         Dog     Intact Male       11 months   \n",
       "3         Cat   Intact Female         4 weeks   \n",
       "4         Dog   Neutered Male         4 years   \n",
       "\n",
       "                                   Breed        Color  \n",
       "0                             Beagle Mix     Tricolor  \n",
       "1               English Springer Spaniel  White/Liver  \n",
       "2                            Basenji Mix  Sable/White  \n",
       "3                 Domestic Shorthair Mix       Calico  \n",
       "4  Doberman Pinsch/Australian Cattle Dog     Tan/Gray  "
      ]
     },
     "execution_count": 4,
     "metadata": {},
     "output_type": "execute_result"
    }
   ],
   "source": [
    "intakes.head()"
   ]
  },
  {
   "cell_type": "code",
   "execution_count": 7,
   "id": "0fcb8858",
   "metadata": {
    "ExecuteTime": {
     "end_time": "2023-10-22T10:53:58.770347211Z",
     "start_time": "2023-10-22T10:53:58.542091892Z"
    }
   },
   "outputs": [
    {
     "name": "stdout",
     "output_type": "stream",
     "text": [
      "<class 'pandas.core.frame.DataFrame'>\n",
      "RangeIndex: 138585 entries, 0 to 138584\n",
      "Data columns (total 12 columns):\n",
      " #   Column            Non-Null Count   Dtype \n",
      "---  ------            --------------   ----- \n",
      " 0   Animal ID         138585 non-null  object\n",
      " 1   Name              97316 non-null   object\n",
      " 2   DateTime          138585 non-null  object\n",
      " 3   MonthYear         138585 non-null  object\n",
      " 4   Found Location    138585 non-null  object\n",
      " 5   Intake Type       138585 non-null  object\n",
      " 6   Intake Condition  138585 non-null  object\n",
      " 7   Animal Type       138585 non-null  object\n",
      " 8   Sex upon Intake   138584 non-null  object\n",
      " 9   Age upon Intake   138585 non-null  object\n",
      " 10  Breed             138585 non-null  object\n",
      " 11  Color             138585 non-null  object\n",
      "dtypes: object(12)\n",
      "memory usage: 12.7+ MB\n"
     ]
    }
   ],
   "source": [
    "intakes.info()"
   ]
  },
  {
   "cell_type": "markdown",
   "id": "164879ad",
   "metadata": {},
   "source": [
    "### Obecné informace o datasetu \"intakes\"\n",
    "* Počet řádků datasetu: 138 585\n",
    "* Počet příznaků: 12\n",
    "* Datový typ příznaků... Všechny atributy mají defaultně typ object, takže v budoucnu je nutné u některých atributů změnit jejich datový typ, aby bylo možné je analyzovat.\n",
    "* Můžeme si také všimnout, že atributy **Name** a **Sex upon Intake** mají chybějící hodnoty."
   ]
  },
  {
   "cell_type": "code",
   "execution_count": 8,
   "id": "6c94d2a0",
   "metadata": {
    "ExecuteTime": {
     "end_time": "2023-10-22T10:53:59.033163240Z",
     "start_time": "2023-10-22T10:53:58.765525412Z"
    },
    "scrolled": true
   },
   "outputs": [
    {
     "name": "stdout",
     "output_type": "stream",
     "text": [
      "Příznak Animal ID má 123890 unikátních hodnot.\n",
      "Příznak Name má 23544 unikátních hodnot.\n",
      "Příznak DateTime má 97442 unikátních hodnot.\n",
      "Příznak MonthYear má 103 unikátních hodnot.\n",
      "Příznak Found Location má 58367 unikátních hodnot.\n",
      "Příznak Intake Type má 6 unikátních hodnot.\n",
      "Příznak Intake Condition má 15 unikátních hodnot.\n",
      "Příznak Animal Type má 5 unikátních hodnot.\n",
      "Příznak Sex upon Intake má 5 unikátních hodnot.\n",
      "Příznak Age upon Intake má 54 unikátních hodnot.\n",
      "Příznak Breed má 2741 unikátních hodnot.\n",
      "Příznak Color má 616 unikátních hodnot.\n"
     ]
    }
   ],
   "source": [
    "# Počet unikátních hodnot každého příznaku datasetu \"intakes\"\n",
    "for column in intakes.columns:\n",
    "    print(f'Příznak {column} má {intakes[column].nunique()} unikátních hodnot.')"
   ]
  },
  {
   "cell_type": "markdown",
   "id": "00deae61",
   "metadata": {},
   "source": [
    "### Význam příznaků datasetu \"intakes\"\n",
    "* Animal ID: ID určitého zvířete\n",
    "* Name: Jméno určitého zvířete\n",
    "* DateTime: Datum a čas, kdy bylo zvíře přijato do útulku\n",
    "* MonthYear: Měsíc a rok, kdy bylo zvíře přijato do útulku\n",
    "* Found Location: Místo nálezu zvířete\n",
    "* Intake type: Atribut popisuje typ adopce (např. \"Stray\" při adopci toulavého zvířete nebo \"Wildlife\" při adopci divokého zvířete atd.)\n",
    "* Intake Condition: Stav zvířete při přijetí do útulku\n",
    "* Animal Type: Druh zvířete\n",
    "* Sex upon Intake: Pohlaví zvířete při přijetí do útulku\n",
    "* Age upon Intake: Věk zvířete při přijetí do útulku\n",
    "* Breed: Rasa zvířete\n",
    "* Color: Barva zvířete"
   ]
  },
  {
   "cell_type": "markdown",
   "id": "5bd9355a",
   "metadata": {},
   "source": [
    "Přehled prvních pěti řádků datasetu \"outcomes\""
   ]
  },
  {
   "cell_type": "code",
   "execution_count": 9,
   "id": "0ac4b5f5",
   "metadata": {
    "ExecuteTime": {
     "end_time": "2023-10-22T10:53:59.336898592Z",
     "start_time": "2023-10-22T10:53:59.169420182Z"
    }
   },
   "outputs": [
    {
     "data": {
      "text/html": [
       "<div>\n",
       "<style scoped>\n",
       "    .dataframe tbody tr th:only-of-type {\n",
       "        vertical-align: middle;\n",
       "    }\n",
       "\n",
       "    .dataframe tbody tr th {\n",
       "        vertical-align: top;\n",
       "    }\n",
       "\n",
       "    .dataframe thead th {\n",
       "        text-align: right;\n",
       "    }\n",
       "</style>\n",
       "<table border=\"1\" class=\"dataframe\">\n",
       "  <thead>\n",
       "    <tr style=\"text-align: right;\">\n",
       "      <th></th>\n",
       "      <th>Animal ID</th>\n",
       "      <th>Name</th>\n",
       "      <th>DateTime</th>\n",
       "      <th>MonthYear</th>\n",
       "      <th>Date of Birth</th>\n",
       "      <th>Outcome Type</th>\n",
       "      <th>Outcome Subtype</th>\n",
       "      <th>Animal Type</th>\n",
       "      <th>Sex upon Outcome</th>\n",
       "      <th>Age upon Outcome</th>\n",
       "      <th>Breed</th>\n",
       "      <th>Color</th>\n",
       "    </tr>\n",
       "  </thead>\n",
       "  <tbody>\n",
       "    <tr>\n",
       "      <th>0</th>\n",
       "      <td>A794011</td>\n",
       "      <td>Chunk</td>\n",
       "      <td>05/08/2019 06:20:00 PM</td>\n",
       "      <td>May 2019</td>\n",
       "      <td>05/02/2017</td>\n",
       "      <td>Rto-Adopt</td>\n",
       "      <td>NaN</td>\n",
       "      <td>Cat</td>\n",
       "      <td>Neutered Male</td>\n",
       "      <td>2 years</td>\n",
       "      <td>Domestic Shorthair Mix</td>\n",
       "      <td>Brown Tabby/White</td>\n",
       "    </tr>\n",
       "    <tr>\n",
       "      <th>1</th>\n",
       "      <td>A776359</td>\n",
       "      <td>Gizmo</td>\n",
       "      <td>07/18/2018 04:02:00 PM</td>\n",
       "      <td>Jul 2018</td>\n",
       "      <td>07/12/2017</td>\n",
       "      <td>Adoption</td>\n",
       "      <td>NaN</td>\n",
       "      <td>Dog</td>\n",
       "      <td>Neutered Male</td>\n",
       "      <td>1 year</td>\n",
       "      <td>Chihuahua Shorthair Mix</td>\n",
       "      <td>White/Brown</td>\n",
       "    </tr>\n",
       "    <tr>\n",
       "      <th>2</th>\n",
       "      <td>A821648</td>\n",
       "      <td>NaN</td>\n",
       "      <td>08/16/2020 11:38:00 AM</td>\n",
       "      <td>Aug 2020</td>\n",
       "      <td>08/16/2019</td>\n",
       "      <td>Euthanasia</td>\n",
       "      <td>NaN</td>\n",
       "      <td>Other</td>\n",
       "      <td>Unknown</td>\n",
       "      <td>1 year</td>\n",
       "      <td>Raccoon</td>\n",
       "      <td>Gray</td>\n",
       "    </tr>\n",
       "    <tr>\n",
       "      <th>3</th>\n",
       "      <td>A720371</td>\n",
       "      <td>Moose</td>\n",
       "      <td>02/13/2016 05:59:00 PM</td>\n",
       "      <td>Feb 2016</td>\n",
       "      <td>10/08/2015</td>\n",
       "      <td>Adoption</td>\n",
       "      <td>NaN</td>\n",
       "      <td>Dog</td>\n",
       "      <td>Neutered Male</td>\n",
       "      <td>4 months</td>\n",
       "      <td>Anatol Shepherd/Labrador Retriever</td>\n",
       "      <td>Buff</td>\n",
       "    </tr>\n",
       "    <tr>\n",
       "      <th>4</th>\n",
       "      <td>A674754</td>\n",
       "      <td>NaN</td>\n",
       "      <td>03/18/2014 11:47:00 AM</td>\n",
       "      <td>Mar 2014</td>\n",
       "      <td>03/12/2014</td>\n",
       "      <td>Transfer</td>\n",
       "      <td>Partner</td>\n",
       "      <td>Cat</td>\n",
       "      <td>Intact Male</td>\n",
       "      <td>6 days</td>\n",
       "      <td>Domestic Shorthair Mix</td>\n",
       "      <td>Orange Tabby</td>\n",
       "    </tr>\n",
       "  </tbody>\n",
       "</table>\n",
       "</div>"
      ],
      "text/plain": [
       "  Animal ID   Name                DateTime MonthYear Date of Birth  \\\n",
       "0   A794011  Chunk  05/08/2019 06:20:00 PM  May 2019    05/02/2017   \n",
       "1   A776359  Gizmo  07/18/2018 04:02:00 PM  Jul 2018    07/12/2017   \n",
       "2   A821648    NaN  08/16/2020 11:38:00 AM  Aug 2020    08/16/2019   \n",
       "3   A720371  Moose  02/13/2016 05:59:00 PM  Feb 2016    10/08/2015   \n",
       "4   A674754    NaN  03/18/2014 11:47:00 AM  Mar 2014    03/12/2014   \n",
       "\n",
       "  Outcome Type Outcome Subtype Animal Type Sex upon Outcome Age upon Outcome  \\\n",
       "0    Rto-Adopt             NaN         Cat    Neutered Male          2 years   \n",
       "1     Adoption             NaN         Dog    Neutered Male           1 year   \n",
       "2   Euthanasia             NaN       Other          Unknown           1 year   \n",
       "3     Adoption             NaN         Dog    Neutered Male         4 months   \n",
       "4     Transfer         Partner         Cat      Intact Male           6 days   \n",
       "\n",
       "                                Breed              Color  \n",
       "0              Domestic Shorthair Mix  Brown Tabby/White  \n",
       "1             Chihuahua Shorthair Mix        White/Brown  \n",
       "2                             Raccoon               Gray  \n",
       "3  Anatol Shepherd/Labrador Retriever               Buff  \n",
       "4              Domestic Shorthair Mix       Orange Tabby  "
      ]
     },
     "execution_count": 9,
     "metadata": {},
     "output_type": "execute_result"
    }
   ],
   "source": [
    "outcomes.head()"
   ]
  },
  {
   "cell_type": "code",
   "execution_count": 10,
   "id": "da3133a1",
   "metadata": {
    "ExecuteTime": {
     "end_time": "2023-10-22T10:53:59.442071675Z",
     "start_time": "2023-10-22T10:53:59.314053357Z"
    }
   },
   "outputs": [
    {
     "name": "stdout",
     "output_type": "stream",
     "text": [
      "<class 'pandas.core.frame.DataFrame'>\n",
      "RangeIndex: 138769 entries, 0 to 138768\n",
      "Data columns (total 12 columns):\n",
      " #   Column            Non-Null Count   Dtype \n",
      "---  ------            --------------   ----- \n",
      " 0   Animal ID         138769 non-null  object\n",
      " 1   Name              97514 non-null   object\n",
      " 2   DateTime          138769 non-null  object\n",
      " 3   MonthYear         138769 non-null  object\n",
      " 4   Date of Birth     138769 non-null  object\n",
      " 5   Outcome Type      138746 non-null  object\n",
      " 6   Outcome Subtype   63435 non-null   object\n",
      " 7   Animal Type       138769 non-null  object\n",
      " 8   Sex upon Outcome  138768 non-null  object\n",
      " 9   Age upon Outcome  138764 non-null  object\n",
      " 10  Breed             138769 non-null  object\n",
      " 11  Color             138769 non-null  object\n",
      "dtypes: object(12)\n",
      "memory usage: 12.7+ MB\n"
     ]
    }
   ],
   "source": [
    "outcomes.info()"
   ]
  },
  {
   "cell_type": "markdown",
   "id": "3da3d742",
   "metadata": {},
   "source": [
    "### Obecné informace o datasetu \"outcomes\"\n",
    "* Počet řádků datasetu: 138 769\n",
    "* Počet příznaků: 12\n",
    "* Datový typ příznaků... Všechny atributy mají defaultně typ object, takže v budoucnu je nutné u některých atributů změnit jejich datový typ, aby bylo možné je analyzovat.\n",
    "* Můžeme si také všimnout, že atributy **Name**, **Outcome Type**, **Outcome Subtype**, **Sex upon Outcome** a **Age upon Outcome** mají chybějící hodnoty."
   ]
  },
  {
   "cell_type": "code",
   "execution_count": 11,
   "id": "f48e7569",
   "metadata": {
    "ExecuteTime": {
     "end_time": "2023-10-22T10:53:59.666131564Z",
     "start_time": "2023-10-22T10:53:59.492561624Z"
    }
   },
   "outputs": [
    {
     "name": "stdout",
     "output_type": "stream",
     "text": [
      "Příznak Animal ID má 124068 unikátních hodnot.\n",
      "Příznak Name má 23425 unikátních hodnot.\n",
      "Příznak DateTime má 115364 unikátních hodnot.\n",
      "Příznak MonthYear má 103 unikátních hodnot.\n",
      "Příznak Date of Birth má 7576 unikátních hodnot.\n",
      "Příznak Outcome Type má 9 unikátních hodnot.\n",
      "Příznak Outcome Subtype má 26 unikátních hodnot.\n",
      "Příznak Animal Type má 5 unikátních hodnot.\n",
      "Příznak Sex upon Outcome má 5 unikátních hodnot.\n",
      "Příznak Age upon Outcome má 54 unikátních hodnot.\n",
      "Příznak Breed má 2749 unikátních hodnot.\n",
      "Příznak Color má 619 unikátních hodnot.\n"
     ]
    }
   ],
   "source": [
    "# Počet unikátních hodnot každého příznaku datasetu \"outcomes\"\n",
    "for column in outcomes.columns:\n",
    "    print(f'Příznak {column} má {outcomes[column].nunique()} unikátních hodnot.')"
   ]
  },
  {
   "cell_type": "markdown",
   "id": "c07be35c",
   "metadata": {},
   "source": [
    "### Význam příznaků datasetu \"outcomes\"\n",
    "* Animal ID: ID určitého zvířete\n",
    "* Name: Jméno určitého zvířete\n",
    "* DateTime: Datum a čas, kdy zvíře opustilo útulek\n",
    "* MonthYear: Měsíc a rok, kdy zvíře opustilo útulek\n",
    "* Date of Birth: Datum narození zvířete\n",
    "* Outcome Type: Popisuje, jak zvíře opustilo útulek (např. \"Relocate\" při přesunu zvířete do jiného útulku)\n",
    "* Outcome Subtype: Poskytuje další informace o konkrétním způsobu opuštění útulku\n",
    "* Animal Type: Druh zvířete\n",
    "* Sex upon Outcome: Pohlaví zvířete při opuštění útulku\n",
    "* Age upon Outcome: Věk zvířete při opuštění útulku\n",
    "* Breed: Rasa zvířete\n",
    "* Color: Barva zvířete"
   ]
  },
  {
   "cell_type": "markdown",
   "id": "4db17089",
   "metadata": {},
   "source": [
    "Z přehledu prvních pěti řádků každého datasetu je patrné, že chybějící hodnoty jsou označeny hodnotou NaN, ale nemůžeme si být jisti, že celý dataset je konzistentní, takže pro jistotu vyplníme potenciálně prázdné hodnoty v obou datasetech hodnotou Nan."
   ]
  },
  {
   "cell_type": "code",
   "execution_count": 12,
   "id": "6c7fe1f1",
   "metadata": {
    "ExecuteTime": {
     "end_time": "2023-10-22T10:53:59.931659235Z",
     "start_time": "2023-10-22T10:53:59.893526679Z"
    }
   },
   "outputs": [],
   "source": [
    "intakes['Name'] = intakes['Name'].replace('', np.nan)\n",
    "intakes['Sex upon Intake'] = intakes['Sex upon Intake'].replace('', np.nan)\n",
    "\n",
    "outcomes['Name'] = outcomes['Name'].replace('', np.nan)\n",
    "outcomes['Outcome Type'] = outcomes['Outcome Type'].replace('', np.nan)\n",
    "outcomes['Outcome Subtype'] = outcomes['Outcome Subtype'].replace('', np.nan)\n",
    "outcomes['Sex upon Outcome'] = outcomes['Sex upon Outcome'].replace('', np.nan)\n",
    "outcomes['Age upon Outcome'] = outcomes['Age upon Outcome'].replace('', np.nan)"
   ]
  },
  {
   "cell_type": "markdown",
   "id": "255af19c",
   "metadata": {},
   "source": [
    "Dalším krokem je odstranění opakujících se řádků datasetu, tj. duplicit."
   ]
  },
  {
   "cell_type": "code",
   "execution_count": 13,
   "id": "d88b5b3f",
   "metadata": {
    "ExecuteTime": {
     "end_time": "2023-10-22T10:54:00.496229248Z",
     "start_time": "2023-10-22T10:54:00.073683280Z"
    }
   },
   "outputs": [
    {
     "name": "stdout",
     "output_type": "stream",
     "text": [
      "<class 'pandas.core.frame.DataFrame'>\n",
      "Index: 138565 entries, 0 to 138584\n",
      "Data columns (total 12 columns):\n",
      " #   Column            Non-Null Count   Dtype \n",
      "---  ------            --------------   ----- \n",
      " 0   Animal ID         138565 non-null  object\n",
      " 1   Name              97300 non-null   object\n",
      " 2   DateTime          138565 non-null  object\n",
      " 3   MonthYear         138565 non-null  object\n",
      " 4   Found Location    138565 non-null  object\n",
      " 5   Intake Type       138565 non-null  object\n",
      " 6   Intake Condition  138565 non-null  object\n",
      " 7   Animal Type       138565 non-null  object\n",
      " 8   Sex upon Intake   138564 non-null  object\n",
      " 9   Age upon Intake   138565 non-null  object\n",
      " 10  Breed             138565 non-null  object\n",
      " 11  Color             138565 non-null  object\n",
      "dtypes: object(12)\n",
      "memory usage: 13.7+ MB\n"
     ]
    },
    {
     "data": {
      "text/plain": [
       "None"
      ]
     },
     "metadata": {},
     "output_type": "display_data"
    },
    {
     "name": "stdout",
     "output_type": "stream",
     "text": [
      "<class 'pandas.core.frame.DataFrame'>\n",
      "Index: 138752 entries, 0 to 138768\n",
      "Data columns (total 12 columns):\n",
      " #   Column            Non-Null Count   Dtype \n",
      "---  ------            --------------   ----- \n",
      " 0   Animal ID         138752 non-null  object\n",
      " 1   Name              97502 non-null   object\n",
      " 2   DateTime          138752 non-null  object\n",
      " 3   MonthYear         138752 non-null  object\n",
      " 4   Date of Birth     138752 non-null  object\n",
      " 5   Outcome Type      138729 non-null  object\n",
      " 6   Outcome Subtype   63427 non-null   object\n",
      " 7   Animal Type       138752 non-null  object\n",
      " 8   Sex upon Outcome  138751 non-null  object\n",
      " 9   Age upon Outcome  138747 non-null  object\n",
      " 10  Breed             138752 non-null  object\n",
      " 11  Color             138752 non-null  object\n",
      "dtypes: object(12)\n",
      "memory usage: 13.8+ MB\n"
     ]
    },
    {
     "data": {
      "text/plain": [
       "None"
      ]
     },
     "metadata": {},
     "output_type": "display_data"
    }
   ],
   "source": [
    "intakes = intakes.drop_duplicates()\n",
    "outcomes = outcomes.drop_duplicates()\n",
    "\n",
    "display(intakes.info())\n",
    "display(outcomes.info())"
   ]
  },
  {
   "cell_type": "markdown",
   "id": "6eff63a4",
   "metadata": {},
   "source": [
    "Je vidět, že počet řádků v souboru dat **se snížil**, což znamená, že v souboru dat byly opakované záznamy. "
   ]
  },
  {
   "cell_type": "code",
   "execution_count": 14,
   "id": "a5f972b0",
   "metadata": {
    "ExecuteTime": {
     "end_time": "2023-10-22T10:54:00.608243449Z",
     "start_time": "2023-10-22T10:54:00.463845738Z"
    }
   },
   "outputs": [
    {
     "name": "stdout",
     "output_type": "stream",
     "text": [
      "<class 'pandas.core.frame.DataFrame'>\n",
      "Index: 138565 entries, 0 to 138584\n",
      "Data columns (total 12 columns):\n",
      " #   Column            Non-Null Count   Dtype   \n",
      "---  ------            --------------   -----   \n",
      " 0   Animal ID         138565 non-null  object  \n",
      " 1   Name              97300 non-null   object  \n",
      " 2   DateTime          138565 non-null  object  \n",
      " 3   MonthYear         138565 non-null  object  \n",
      " 4   Found Location    138565 non-null  object  \n",
      " 5   Intake Type       138565 non-null  category\n",
      " 6   Intake Condition  138565 non-null  category\n",
      " 7   Animal Type       138565 non-null  category\n",
      " 8   Sex upon Intake   138564 non-null  object  \n",
      " 9   Age upon Intake   138565 non-null  object  \n",
      " 10  Breed             138565 non-null  object  \n",
      " 11  Color             138565 non-null  object  \n",
      "dtypes: category(3), object(9)\n",
      "memory usage: 11.0+ MB\n"
     ]
    },
    {
     "data": {
      "text/plain": [
       "None"
      ]
     },
     "metadata": {},
     "output_type": "display_data"
    },
    {
     "name": "stdout",
     "output_type": "stream",
     "text": [
      "<class 'pandas.core.frame.DataFrame'>\n",
      "Index: 138752 entries, 0 to 138768\n",
      "Data columns (total 12 columns):\n",
      " #   Column            Non-Null Count   Dtype   \n",
      "---  ------            --------------   -----   \n",
      " 0   Animal ID         138752 non-null  object  \n",
      " 1   Name              97502 non-null   object  \n",
      " 2   DateTime          138752 non-null  object  \n",
      " 3   MonthYear         138752 non-null  object  \n",
      " 4   Date of Birth     138752 non-null  object  \n",
      " 5   Outcome Type      138729 non-null  category\n",
      " 6   Outcome Subtype   63427 non-null   category\n",
      " 7   Animal Type       138752 non-null  category\n",
      " 8   Sex upon Outcome  138751 non-null  object  \n",
      " 9   Age upon Outcome  138747 non-null  object  \n",
      " 10  Breed             138752 non-null  object  \n",
      " 11  Color             138752 non-null  object  \n",
      "dtypes: category(3), object(9)\n",
      "memory usage: 11.0+ MB\n"
     ]
    },
    {
     "data": {
      "text/plain": [
       "None"
      ]
     },
     "metadata": {},
     "output_type": "display_data"
    }
   ],
   "source": [
    "# Konverze kategorických příznaků na typ category\n",
    "category_type_columns = ['Intake Type', 'Intake Condition', 'Animal Type']\n",
    "intakes[category_type_columns] = intakes[category_type_columns].astype('category')\n",
    "\n",
    "category_type_columns = ['Outcome Type', 'Outcome Subtype', 'Animal Type']\n",
    "outcomes[category_type_columns] = outcomes[category_type_columns].astype('category')\n",
    "\n",
    "display(intakes.info())\n",
    "display(outcomes.info())"
   ]
  },
  {
   "cell_type": "code",
   "execution_count": 15,
   "id": "192d1bc8",
   "metadata": {
    "ExecuteTime": {
     "end_time": "2023-10-22T10:54:01.560849036Z",
     "start_time": "2023-10-22T10:54:00.581763072Z"
    }
   },
   "outputs": [
    {
     "name": "stdout",
     "output_type": "stream",
     "text": [
      "<class 'pandas.core.frame.DataFrame'>\n",
      "Index: 138565 entries, 0 to 138584\n",
      "Data columns (total 12 columns):\n",
      " #   Column            Non-Null Count   Dtype         \n",
      "---  ------            --------------   -----         \n",
      " 0   Animal ID         138565 non-null  object        \n",
      " 1   Name              97300 non-null   object        \n",
      " 2   DateTime          138565 non-null  datetime64[ns]\n",
      " 3   MonthYear         138565 non-null  object        \n",
      " 4   Found Location    138565 non-null  object        \n",
      " 5   Intake Type       138565 non-null  category      \n",
      " 6   Intake Condition  138565 non-null  category      \n",
      " 7   Animal Type       138565 non-null  category      \n",
      " 8   Sex upon Intake   138564 non-null  object        \n",
      " 9   Age upon Intake   138565 non-null  object        \n",
      " 10  Breed             138565 non-null  object        \n",
      " 11  Color             138565 non-null  object        \n",
      "dtypes: category(3), datetime64[ns](1), object(8)\n",
      "memory usage: 11.0+ MB\n"
     ]
    },
    {
     "data": {
      "text/plain": [
       "None"
      ]
     },
     "metadata": {},
     "output_type": "display_data"
    },
    {
     "name": "stdout",
     "output_type": "stream",
     "text": [
      "<class 'pandas.core.frame.DataFrame'>\n",
      "Index: 138752 entries, 0 to 138768\n",
      "Data columns (total 12 columns):\n",
      " #   Column            Non-Null Count   Dtype         \n",
      "---  ------            --------------   -----         \n",
      " 0   Animal ID         138752 non-null  object        \n",
      " 1   Name              97502 non-null   object        \n",
      " 2   DateTime          138752 non-null  datetime64[ns]\n",
      " 3   MonthYear         138752 non-null  object        \n",
      " 4   Date of Birth     138752 non-null  object        \n",
      " 5   Outcome Type      138729 non-null  category      \n",
      " 6   Outcome Subtype   63427 non-null   category      \n",
      " 7   Animal Type       138752 non-null  category      \n",
      " 8   Sex upon Outcome  138751 non-null  object        \n",
      " 9   Age upon Outcome  138747 non-null  object        \n",
      " 10  Breed             138752 non-null  object        \n",
      " 11  Color             138752 non-null  object        \n",
      "dtypes: category(3), datetime64[ns](1), object(8)\n",
      "memory usage: 11.0+ MB\n"
     ]
    },
    {
     "data": {
      "text/plain": [
       "None"
      ]
     },
     "metadata": {},
     "output_type": "display_data"
    }
   ],
   "source": [
    "# Konverze příznaku DateTime na typ datetime64\n",
    "intakes['DateTime'] = pd.to_datetime(intakes['DateTime'], format='%m/%d/%Y %I:%M:%S %p')\n",
    "outcomes['DateTime'] = pd.to_datetime(outcomes['DateTime'], format='%m/%d/%Y %I:%M:%S %p')\n",
    "\n",
    "display(intakes.info())\n",
    "display(outcomes.info())"
   ]
  },
  {
   "cell_type": "code",
   "execution_count": 16,
   "id": "edeab9ed",
   "metadata": {
    "ExecuteTime": {
     "end_time": "2023-10-22T10:54:01.781501060Z",
     "start_time": "2023-10-22T10:54:01.499735851Z"
    }
   },
   "outputs": [],
   "source": [
    "# Konverze příznaů Age upon Intake/Outcome na numerický příznak pomoci vlastní funkce \"age_to_numeric\"\n",
    "def age_to_numeric(str):\n",
    "    if pd.isna(str):\n",
    "        return np.nan\n",
    "    number, unit = str.split()\n",
    "    number = int(number)\n",
    "    if number < 0:\n",
    "        return np.nan\n",
    "    if \"year\" in unit:\n",
    "        return number\n",
    "    elif \"month\" in unit:\n",
    "        return round((number / 12), 1)\n",
    "    elif \"week\" in unit:\n",
    "        return round((number / 52), 1)\n",
    "    elif \"day\" in unit:\n",
    "        return round((number / 365), 1)\n",
    "    \n",
    "intakes[\"Age upon Intake\"] = intakes[\"Age upon Intake\"].apply(age_to_numeric)\n",
    "outcomes[\"Age upon Outcome\"] = outcomes[\"Age upon Outcome\"].apply(age_to_numeric)"
   ]
  },
  {
   "cell_type": "code",
   "execution_count": 17,
   "id": "bd5676ed",
   "metadata": {
    "ExecuteTime": {
     "end_time": "2023-10-22T10:54:01.857732405Z",
     "start_time": "2023-10-22T10:54:01.805520918Z"
    }
   },
   "outputs": [
    {
     "name": "stdout",
     "output_type": "stream",
     "text": [
      "<class 'pandas.core.frame.DataFrame'>\n",
      "Index: 138565 entries, 0 to 138584\n",
      "Data columns (total 12 columns):\n",
      " #   Column            Non-Null Count   Dtype         \n",
      "---  ------            --------------   -----         \n",
      " 0   Animal ID         138565 non-null  object        \n",
      " 1   Name              97300 non-null   object        \n",
      " 2   DateTime          138565 non-null  datetime64[ns]\n",
      " 3   MonthYear         138565 non-null  object        \n",
      " 4   Found Location    138565 non-null  object        \n",
      " 5   Intake Type       138565 non-null  category      \n",
      " 6   Intake Condition  138565 non-null  category      \n",
      " 7   Animal Type       138565 non-null  category      \n",
      " 8   Sex upon Intake   138564 non-null  object        \n",
      " 9   Age upon Intake   138557 non-null  float64       \n",
      " 10  Breed             138565 non-null  object        \n",
      " 11  Color             138565 non-null  object        \n",
      "dtypes: category(3), datetime64[ns](1), float64(1), object(7)\n",
      "memory usage: 11.0+ MB\n"
     ]
    },
    {
     "data": {
      "text/plain": [
       "None"
      ]
     },
     "metadata": {},
     "output_type": "display_data"
    },
    {
     "name": "stdout",
     "output_type": "stream",
     "text": [
      "<class 'pandas.core.frame.DataFrame'>\n",
      "Index: 138752 entries, 0 to 138768\n",
      "Data columns (total 12 columns):\n",
      " #   Column            Non-Null Count   Dtype         \n",
      "---  ------            --------------   -----         \n",
      " 0   Animal ID         138752 non-null  object        \n",
      " 1   Name              97502 non-null   object        \n",
      " 2   DateTime          138752 non-null  datetime64[ns]\n",
      " 3   MonthYear         138752 non-null  object        \n",
      " 4   Date of Birth     138752 non-null  object        \n",
      " 5   Outcome Type      138729 non-null  category      \n",
      " 6   Outcome Subtype   63427 non-null   category      \n",
      " 7   Animal Type       138752 non-null  category      \n",
      " 8   Sex upon Outcome  138751 non-null  object        \n",
      " 9   Age upon Outcome  138739 non-null  float64       \n",
      " 10  Breed             138752 non-null  object        \n",
      " 11  Color             138752 non-null  object        \n",
      "dtypes: category(3), datetime64[ns](1), float64(1), object(7)\n",
      "memory usage: 11.0+ MB\n"
     ]
    },
    {
     "data": {
      "text/plain": [
       "None"
      ]
     },
     "metadata": {},
     "output_type": "display_data"
    }
   ],
   "source": [
    "display(intakes.info())\n",
    "display(outcomes.info())"
   ]
  },
  {
   "cell_type": "markdown",
   "id": "fd8dc8951f84fce",
   "metadata": {},
   "source": [
    "V obou datasetech můžeme odstranit atribut **\"MonthYear\"**, protože tento atribut částečně duplikuje informace atributu **\"DateTime\"**. "
   ]
  },
  {
   "cell_type": "code",
   "execution_count": 18,
   "id": "dece9a3b074a77d4",
   "metadata": {
    "ExecuteTime": {
     "end_time": "2023-10-22T10:54:01.896033840Z",
     "start_time": "2023-10-22T10:54:01.835178701Z"
    }
   },
   "outputs": [],
   "source": [
    "intakes = intakes.drop(columns=[\"MonthYear\"])\n",
    "outcomes = outcomes.drop(columns=[\"MonthYear\"])"
   ]
  },
  {
   "cell_type": "markdown",
   "id": "1d7e8f0d",
   "metadata": {},
   "source": [
    "# 🖊️ Deskriptivní statistiky"
   ]
  },
  {
   "cell_type": "markdown",
   "id": "bcc12d73809ac534",
   "metadata": {},
   "source": [
    "## Popis příznaku \"Age upon Intake\""
   ]
  },
  {
   "cell_type": "markdown",
   "id": "9fd24941578dcb73",
   "metadata": {},
   "source": [
    "* Průměrný věk zvířat při přijetí do útulku: 2.0"
   ]
  },
  {
   "cell_type": "code",
   "execution_count": 19,
   "id": "715e3951dcb91f11",
   "metadata": {
    "ExecuteTime": {
     "end_time": "2023-10-22T10:54:01.896874481Z",
     "start_time": "2023-10-22T10:54:01.862822592Z"
    }
   },
   "outputs": [
    {
     "name": "stdout",
     "output_type": "stream",
     "text": [
      "Průměrný věk zvířat při přijetí do útulku: 2.0\n"
     ]
    }
   ],
   "source": [
    "age_mean = round(intakes[\"Age upon Intake\"].mean(), 1)\n",
    "print(f'Průměrný věk zvířat při přijetí do útulku: {age_mean}')"
   ]
  },
  {
   "cell_type": "markdown",
   "id": "8f48337d607a8e9b",
   "metadata": {},
   "source": [
    "* Střední hodnota věku, která odděluje polovinu zvířat s nižším věkem a polovinu s vyšším věkem při přijetí: 1.0"
   ]
  },
  {
   "cell_type": "code",
   "execution_count": 20,
   "id": "2e11c98d3a807c95",
   "metadata": {
    "ExecuteTime": {
     "end_time": "2023-10-22T10:54:02.078763095Z",
     "start_time": "2023-10-22T10:54:02.045947265Z"
    }
   },
   "outputs": [
    {
     "name": "stdout",
     "output_type": "stream",
     "text": [
      "Střední hodnota věku zvířat při přijetí do útulku: 1.0\n"
     ]
    }
   ],
   "source": [
    "age_median = intakes['Age upon Intake'].median()\n",
    "print(f\"Střední hodnota věku zvířat při přijetí do útulku: {age_median}\")"
   ]
  },
  {
   "cell_type": "markdown",
   "id": "b274e41fa0c7eba",
   "metadata": {},
   "source": [
    "* Nejmladší věk zvířete při přijetí: 0.0 (tj. novorozené zvíře)\n",
    "* Nejstarší věk zvířete při přijetí: 30.0"
   ]
  },
  {
   "cell_type": "code",
   "execution_count": 21,
   "id": "7d7179cba10910cb",
   "metadata": {
    "ExecuteTime": {
     "end_time": "2023-10-22T10:54:02.338899491Z",
     "start_time": "2023-10-22T10:54:02.319970873Z"
    }
   },
   "outputs": [
    {
     "name": "stdout",
     "output_type": "stream",
     "text": [
      "Nejmladší věk zvířete při přijetí: 0.0\n",
      "Nejstarší věk zvířete při přijetí: 30.0\n"
     ]
    }
   ],
   "source": [
    "age_min = intakes[\"Age upon Intake\"].min()\n",
    "age_max = intakes[\"Age upon Intake\"].max()\n",
    "\n",
    "print(f'Nejmladší věk zvířete při přijetí: {age_min}')\n",
    "print(f'Nejstarší věk zvířete při přijetí: {age_max}')"
   ]
  },
  {
   "cell_type": "markdown",
   "id": "afcaac2043218bf3",
   "metadata": {},
   "source": [
    "* Míra variability věku zvířat při přijetí: 8.2\n",
    "* Míra odchylky věku od průměru: 2.9"
   ]
  },
  {
   "cell_type": "code",
   "execution_count": 22,
   "id": "7f283ae164e50715",
   "metadata": {
    "ExecuteTime": {
     "end_time": "2023-10-22T10:54:02.618729939Z",
     "start_time": "2023-10-22T10:54:02.600680129Z"
    }
   },
   "outputs": [
    {
     "name": "stdout",
     "output_type": "stream",
     "text": [
      "Míra variability věku zvířat při přijetí: 8.2\n",
      "Míra odchylky věku od průměru: 2.9\n"
     ]
    }
   ],
   "source": [
    "age_var = round(intakes[\"Age upon Intake\"].var(), 1)\n",
    "age_std = round(intakes[\"Age upon Intake\"].std(), 1)\n",
    "\n",
    "print(f'Míra variability věku zvířat při přijetí: {age_var}')\n",
    "print(f'Míra odchylky věku od průměru: {age_std}')"
   ]
  },
  {
   "cell_type": "code",
   "execution_count": 52,
   "id": "4ccb6621d80fd20",
   "metadata": {
    "ExecuteTime": {
     "end_time": "2023-10-22T11:21:31.855482629Z",
     "start_time": "2023-10-22T11:21:31.604196854Z"
    }
   },
   "outputs": [
    {
     "data": {
      "image/png": "[encoded data removed]",
      "text/plain": [
       "<Figure size 432x288 with 1 Axes>"
      ]
     },
     "metadata": {},
     "output_type": "display_data"
    }
   ],
   "source": [
    "# Import dalšího baličku pro vykreslování grafů\n",
    "import matplotlib.pyplot as plt\n",
    "\n",
    "plt.hist(intakes['Age upon Intake'], bins=30, edgecolor='black')\n",
    "plt.xlabel('Věk při přijetí')\n",
    "plt.ylabel('Počet zvířat')\n",
    "plt.title('Rozložení věku při přijetí do útulku')\n",
    "plt.show()"
   ]
  },
  {
   "cell_type": "markdown",
   "id": "892385cc66bfb62e",
   "metadata": {},
   "source": [
    "Z výše uvedených statistik a histogramů je patrné, že v útulku nejčastěji končí novorozená nebo velmi mladá zvířata."
   ]
  },
  {
   "cell_type": "markdown",
   "id": "4e5ef83472a6a537",
   "metadata": {},
   "source": [
    "## Popis příznaku \"DateTime\""
   ]
  },
  {
   "cell_type": "markdown",
   "id": "9006bce4cf2d053d",
   "metadata": {},
   "source": [
    "Vytvoříme další atribut, který bude indikovat, který den v týdnu bylo zvíře přijato do útulku."
   ]
  },
  {
   "cell_type": "code",
   "execution_count": 24,
   "id": "b3dd945bd109528c",
   "metadata": {
    "ExecuteTime": {
     "end_time": "2023-10-22T10:54:03.171945609Z",
     "start_time": "2023-10-22T10:54:03.156215525Z"
    }
   },
   "outputs": [],
   "source": [
    "intakes[\"Day of Week\"] = intakes['DateTime'].dt.dayofweek\n",
    "map_day_of_week = {0: 'Monday', 1: 'Tuesday', 2: 'Wednesday', 3: 'Thursday', 4: 'Friday', 5: 'Saturday', 6: 'Sunday'}\n",
    "intakes['Day of Week'] = intakes['Day of Week'].map(map_day_of_week)"
   ]
  },
  {
   "cell_type": "code",
   "execution_count": 25,
   "id": "598367da025adf2d",
   "metadata": {
    "ExecuteTime": {
     "end_time": "2023-10-22T10:54:03.350710528Z",
     "start_time": "2023-10-22T10:54:03.341951112Z"
    }
   },
   "outputs": [],
   "source": [
    "intakes.rename(columns={\"Day of Week\" : \"Day of Intake\"}, inplace=True)"
   ]
  },
  {
   "cell_type": "code",
   "execution_count": 26,
   "id": "7b59d15e1741c8e0",
   "metadata": {
    "ExecuteTime": {
     "end_time": "2023-10-22T10:54:03.493742757Z",
     "start_time": "2023-10-22T10:54:03.449155214Z"
    }
   },
   "outputs": [
    {
     "name": "stdout",
     "output_type": "stream",
     "text": [
      "<class 'pandas.core.frame.DataFrame'>\n",
      "Index: 138565 entries, 0 to 138584\n",
      "Data columns (total 12 columns):\n",
      " #   Column            Non-Null Count   Dtype         \n",
      "---  ------            --------------   -----         \n",
      " 0   Animal ID         138565 non-null  object        \n",
      " 1   Name              97300 non-null   object        \n",
      " 2   DateTime          138565 non-null  datetime64[ns]\n",
      " 3   Found Location    138565 non-null  object        \n",
      " 4   Intake Type       138565 non-null  category      \n",
      " 5   Intake Condition  138565 non-null  category      \n",
      " 6   Animal Type       138565 non-null  category      \n",
      " 7   Sex upon Intake   138564 non-null  object        \n",
      " 8   Age upon Intake   138557 non-null  float64       \n",
      " 9   Breed             138565 non-null  object        \n",
      " 10  Color             138565 non-null  object        \n",
      " 11  Day of Intake     138565 non-null  object        \n",
      "dtypes: category(3), datetime64[ns](1), float64(1), object(7)\n",
      "memory usage: 11.0+ MB\n"
     ]
    }
   ],
   "source": [
    "intakes.info()"
   ]
  },
  {
   "cell_type": "markdown",
   "id": "22fb7e3bd227d682",
   "metadata": {},
   "source": []
  },
  {
   "cell_type": "code",
   "execution_count": 64,
   "id": "8a655d2858957235",
   "metadata": {
    "ExecuteTime": {
     "end_time": "2023-10-22T11:51:21.605114351Z",
     "start_time": "2023-10-22T11:51:21.395642459Z"
    }
   },
   "outputs": [
    {
     "data": {
      "image/png": "[encoded data removed]",
      "text/plain": [
       "<Figure size 720x432 with 1 Axes>"
      ]
     },
     "metadata": {},
     "output_type": "display_data"
    }
   ],
   "source": [
    "counts_by_day = intakes['Day of Intake'].value_counts()\n",
    "\n",
    "plt.figure(figsize=(10, 6))\n",
    "counts_by_day.plot(kind='bar', color='lightblue')\n",
    "plt.xlabel('Den v týdnu')\n",
    "plt.ylabel('Počet zvířat')\n",
    "plt.title('Počet zvířat přijatých do útulku podle dnů v týdnu')\n",
    "plt.xticks(rotation=0)\n",
    "plt.show()"
   ]
  },
  {
   "cell_type": "markdown",
   "id": "5367dc58a8f53bc0",
   "metadata": {},
   "source": [
    "* Z této vizualizace lze odvodit poměrně očekávaný závěr, že nejvíce nových zvířat byla přijata do útulku na začátku pracovního týdne a s postupem pracovního týdne se počet přijíždějících zvířat snižuje.  \n",
    "* Tato vizualizace by také mohla pomoci správě útulku s vypracováním rozvrhu pracovníků a rozdělením jejich pracovníků uprostřed týdne."
   ]
  },
  {
   "cell_type": "code",
   "execution_count": 28,
   "id": "c696eff0007571ee",
   "metadata": {
    "ExecuteTime": {
     "end_time": "2023-10-22T10:54:03.828657874Z",
     "start_time": "2023-10-22T10:54:03.813779112Z"
    }
   },
   "outputs": [
    {
     "name": "stdout",
     "output_type": "stream",
     "text": [
      "Rok s nejvyšším počtem zvířat přijatých do útulku: 2019\n",
      "Měsíc v roce s nejvyšším počtem zvířat přijatých do útulku: June\n",
      "Den v týdnu s nejvyšším počtem zvířat přijatých do útulku: Monday\n"
     ]
    }
   ],
   "source": [
    "year = intakes['DateTime'].dt.year.value_counts().idxmax()\n",
    "print(f'Rok s nejvyšším počtem zvířat přijatých do útulku: {year}')\n",
    "\n",
    "month = intakes['DateTime'].dt.month.value_counts().idxmax()\n",
    "print(f'Měsíc v roce s nejvyšším počtem zvířat přijatých do útulku: {\"June\" if month == 6 else None}')\n",
    "\n",
    "day = intakes['Day of Intake'].value_counts().idxmax()\n",
    "print(f'Den v týdnu s nejvyšším počtem zvířat přijatých do útulku: {day}')"
   ]
  },
  {
   "cell_type": "markdown",
   "id": "2eec41aed37f6362",
   "metadata": {},
   "source": [
    "## Popis příznaku \"Intake type\" "
   ]
  },
  {
   "cell_type": "code",
   "execution_count": 29,
   "id": "99cf4803b6b25a40",
   "metadata": {
    "ExecuteTime": {
     "end_time": "2023-10-22T10:54:04.051443114Z",
     "start_time": "2023-10-22T10:54:04.021798922Z"
    }
   },
   "outputs": [
    {
     "data": {
      "text/html": [
       "<div>\n",
       "<style scoped>\n",
       "    .dataframe tbody tr th:only-of-type {\n",
       "        vertical-align: middle;\n",
       "    }\n",
       "\n",
       "    .dataframe tbody tr th {\n",
       "        vertical-align: top;\n",
       "    }\n",
       "\n",
       "    .dataframe thead th {\n",
       "        text-align: right;\n",
       "    }\n",
       "</style>\n",
       "<table border=\"1\" class=\"dataframe\">\n",
       "  <thead>\n",
       "    <tr style=\"text-align: right;\">\n",
       "      <th></th>\n",
       "      <th>Animal ID</th>\n",
       "      <th>Name</th>\n",
       "      <th>DateTime</th>\n",
       "      <th>Found Location</th>\n",
       "      <th>Intake Type</th>\n",
       "      <th>Intake Condition</th>\n",
       "      <th>Animal Type</th>\n",
       "      <th>Sex upon Intake</th>\n",
       "      <th>Age upon Intake</th>\n",
       "      <th>Breed</th>\n",
       "      <th>Color</th>\n",
       "      <th>Day of Intake</th>\n",
       "    </tr>\n",
       "  </thead>\n",
       "  <tbody>\n",
       "    <tr>\n",
       "      <th>0</th>\n",
       "      <td>A786884</td>\n",
       "      <td>*Brock</td>\n",
       "      <td>2019-01-03 16:19:00</td>\n",
       "      <td>2501 Magin Meadow Dr in Austin (TX)</td>\n",
       "      <td>Stray</td>\n",
       "      <td>Normal</td>\n",
       "      <td>Dog</td>\n",
       "      <td>Neutered Male</td>\n",
       "      <td>2.0</td>\n",
       "      <td>Beagle Mix</td>\n",
       "      <td>Tricolor</td>\n",
       "      <td>Thursday</td>\n",
       "    </tr>\n",
       "    <tr>\n",
       "      <th>1</th>\n",
       "      <td>A706918</td>\n",
       "      <td>Belle</td>\n",
       "      <td>2015-07-05 12:59:00</td>\n",
       "      <td>9409 Bluegrass Dr in Austin (TX)</td>\n",
       "      <td>Stray</td>\n",
       "      <td>Normal</td>\n",
       "      <td>Dog</td>\n",
       "      <td>Spayed Female</td>\n",
       "      <td>8.0</td>\n",
       "      <td>English Springer Spaniel</td>\n",
       "      <td>White/Liver</td>\n",
       "      <td>Sunday</td>\n",
       "    </tr>\n",
       "    <tr>\n",
       "      <th>2</th>\n",
       "      <td>A724273</td>\n",
       "      <td>Runster</td>\n",
       "      <td>2016-04-14 18:43:00</td>\n",
       "      <td>2818 Palomino Trail in Austin (TX)</td>\n",
       "      <td>Stray</td>\n",
       "      <td>Normal</td>\n",
       "      <td>Dog</td>\n",
       "      <td>Intact Male</td>\n",
       "      <td>0.9</td>\n",
       "      <td>Basenji Mix</td>\n",
       "      <td>Sable/White</td>\n",
       "      <td>Thursday</td>\n",
       "    </tr>\n",
       "    <tr>\n",
       "      <th>3</th>\n",
       "      <td>A665644</td>\n",
       "      <td>NaN</td>\n",
       "      <td>2013-10-21 07:59:00</td>\n",
       "      <td>Austin (TX)</td>\n",
       "      <td>Stray</td>\n",
       "      <td>Sick</td>\n",
       "      <td>Cat</td>\n",
       "      <td>Intact Female</td>\n",
       "      <td>0.1</td>\n",
       "      <td>Domestic Shorthair Mix</td>\n",
       "      <td>Calico</td>\n",
       "      <td>Monday</td>\n",
       "    </tr>\n",
       "    <tr>\n",
       "      <th>4</th>\n",
       "      <td>A682524</td>\n",
       "      <td>Rio</td>\n",
       "      <td>2014-06-29 10:38:00</td>\n",
       "      <td>800 Grove Blvd in Austin (TX)</td>\n",
       "      <td>Stray</td>\n",
       "      <td>Normal</td>\n",
       "      <td>Dog</td>\n",
       "      <td>Neutered Male</td>\n",
       "      <td>4.0</td>\n",
       "      <td>Doberman Pinsch/Australian Cattle Dog</td>\n",
       "      <td>Tan/Gray</td>\n",
       "      <td>Sunday</td>\n",
       "    </tr>\n",
       "  </tbody>\n",
       "</table>\n",
       "</div>"
      ],
      "text/plain": [
       "  Animal ID     Name            DateTime                       Found Location  \\\n",
       "0   A786884   *Brock 2019-01-03 16:19:00  2501 Magin Meadow Dr in Austin (TX)   \n",
       "1   A706918    Belle 2015-07-05 12:59:00     9409 Bluegrass Dr in Austin (TX)   \n",
       "2   A724273  Runster 2016-04-14 18:43:00   2818 Palomino Trail in Austin (TX)   \n",
       "3   A665644      NaN 2013-10-21 07:59:00                          Austin (TX)   \n",
       "4   A682524      Rio 2014-06-29 10:38:00        800 Grove Blvd in Austin (TX)   \n",
       "\n",
       "  Intake Type Intake Condition Animal Type Sex upon Intake  Age upon Intake  \\\n",
       "0       Stray           Normal         Dog   Neutered Male              2.0   \n",
       "1       Stray           Normal         Dog   Spayed Female              8.0   \n",
       "2       Stray           Normal         Dog     Intact Male              0.9   \n",
       "3       Stray             Sick         Cat   Intact Female              0.1   \n",
       "4       Stray           Normal         Dog   Neutered Male              4.0   \n",
       "\n",
       "                                   Breed        Color Day of Intake  \n",
       "0                             Beagle Mix     Tricolor      Thursday  \n",
       "1               English Springer Spaniel  White/Liver        Sunday  \n",
       "2                            Basenji Mix  Sable/White      Thursday  \n",
       "3                 Domestic Shorthair Mix       Calico        Monday  \n",
       "4  Doberman Pinsch/Australian Cattle Dog     Tan/Gray        Sunday  "
      ]
     },
     "execution_count": 29,
     "metadata": {},
     "output_type": "execute_result"
    }
   ],
   "source": [
    "intakes.head()"
   ]
  },
  {
   "cell_type": "markdown",
   "id": "9fa62a8c7fb40c64",
   "metadata": {},
   "source": [
    "Unikátní hodnoty atributu **\"Intake Type\"**"
   ]
  },
  {
   "cell_type": "code",
   "execution_count": 30,
   "id": "fbdbd2b2698841f",
   "metadata": {
    "ExecuteTime": {
     "end_time": "2023-10-22T10:54:04.273553107Z",
     "start_time": "2023-10-22T10:54:04.184360776Z"
    }
   },
   "outputs": [
    {
     "data": {
      "text/plain": [
       "['Stray', 'Owner Surrender', 'Public Assist', 'Wildlife', 'Euthanasia Request', 'Abandoned']\n",
       "Categories (6, object): ['Abandoned', 'Euthanasia Request', 'Owner Surrender', 'Public Assist', 'Stray', 'Wildlife']"
      ]
     },
     "execution_count": 30,
     "metadata": {},
     "output_type": "execute_result"
    }
   ],
   "source": [
    "intakes[\"Intake Type\"].unique()"
   ]
  },
  {
   "cell_type": "code",
   "execution_count": 31,
   "id": "f85aae3ab35b8de",
   "metadata": {
    "ExecuteTime": {
     "end_time": "2023-10-22T10:54:04.499735005Z",
     "start_time": "2023-10-22T10:54:04.348090287Z"
    }
   },
   "outputs": [
    {
     "data": {
      "image/png": "[encoded data removed]",
      "text/plain": [
       "<Figure size 720x432 with 1 Axes>"
      ]
     },
     "metadata": {},
     "output_type": "display_data"
    }
   ],
   "source": [
    "counts_by_day = intakes['Intake Type'].value_counts()\n",
    "\n",
    "plt.figure(figsize=(10, 6))\n",
    "counts_by_day.plot(kind='bar', color='lightblue')\n",
    "plt.xlabel('Intake Type')\n",
    "plt.ylabel('Počet zvířat')\n",
    "plt.title('Počet zvířat přijatých do útulku v závislosti na důvodu přijetí')\n",
    "plt.show()"
   ]
  },
  {
   "cell_type": "markdown",
   "id": "2001ba58d4875892",
   "metadata": {},
   "source": [
    "Tato vizualizace nám ukázala, že většina přijatých zvířat byli bezdomovci. Tento výsledek nám pomůže v dalších statistikách."
   ]
  },
  {
   "cell_type": "code",
   "execution_count": 32,
   "id": "b97bb8ca4586da89",
   "metadata": {
    "ExecuteTime": {
     "end_time": "2023-10-22T10:54:04.590279725Z",
     "start_time": "2023-10-22T10:54:04.529515693Z"
    }
   },
   "outputs": [
    {
     "name": "stdout",
     "output_type": "stream",
     "text": [
      "Hlavní důvod, proč jsou zvířata přivážena do útulku: Stray\n"
     ]
    }
   ],
   "source": [
    "intake_type = intakes[\"Intake Type\"].value_counts().idxmax()\n",
    "print(f'Hlavní důvod, proč jsou zvířata přivážena do útulku: {intake_type}')"
   ]
  },
  {
   "cell_type": "code",
   "execution_count": 33,
   "id": "860369160e19769c",
   "metadata": {
    "ExecuteTime": {
     "end_time": "2023-10-22T10:54:04.733085770Z",
     "start_time": "2023-10-22T10:54:04.668778142Z"
    }
   },
   "outputs": [
    {
     "name": "stdout",
     "output_type": "stream",
     "text": [
      "Počet toulavých zvířat přijatých do útulku: 95275\n"
     ]
    }
   ],
   "source": [
    "count = (intakes[\"Intake Type\"] == \"Stray\").sum()\n",
    "print(f'Počet toulavých zvířat přijatých do útulku: {count}')"
   ]
  },
  {
   "cell_type": "markdown",
   "id": "603c6dbe47e3d8fd",
   "metadata": {},
   "source": [
    "## Popis příznaku \"Intake Condition\""
   ]
  },
  {
   "cell_type": "code",
   "execution_count": 34,
   "id": "cdabf05658d0d25c",
   "metadata": {
    "ExecuteTime": {
     "end_time": "2023-10-22T10:54:04.929985235Z",
     "start_time": "2023-10-22T10:54:04.912302059Z"
    }
   },
   "outputs": [
    {
     "data": {
      "text/plain": [
       "['Normal', 'Sick', 'Injured', 'Pregnant', 'Nursing', ..., 'Behavior', 'Med Urgent', 'Space', 'Med Attn', 'Panleuk']\n",
       "Length: 15\n",
       "Categories (15, object): ['Aged', 'Behavior', 'Feral', 'Injured', ..., 'Panleuk', 'Pregnant', 'Sick', 'Space']"
      ]
     },
     "execution_count": 34,
     "metadata": {},
     "output_type": "execute_result"
    }
   ],
   "source": [
    "intakes[\"Intake Condition\"].unique()"
   ]
  },
  {
   "cell_type": "code",
   "execution_count": 35,
   "id": "6f5fd83f8278b5d0",
   "metadata": {
    "ExecuteTime": {
     "end_time": "2023-10-22T10:54:05.239868413Z",
     "start_time": "2023-10-22T10:54:05.078576205Z"
    }
   },
   "outputs": [
    {
     "data": {
      "image/png": "[encoded data removed]",
      "text/plain": [
       "<Figure size 720x432 with 1 Axes>"
      ]
     },
     "metadata": {},
     "output_type": "display_data"
    }
   ],
   "source": [
    "counts_by_day = intakes['Intake Condition'].value_counts()\n",
    "\n",
    "plt.figure(figsize=(10, 6))\n",
    "counts_by_day.plot(kind='bar', color='lightblue')\n",
    "plt.xlabel('Intake Condition')\n",
    "plt.ylabel('Počet zvířat')\n",
    "plt.title('Počet zvířat podle stavu při přijetí')\n",
    "plt.xticks(rotation=45)\n",
    "plt.show()"
   ]
  },
  {
   "cell_type": "markdown",
   "id": "6aca63e1b4c89630",
   "metadata": {},
   "source": [
    "Na první pohled se může zdát, že téměř všechna zvířata přijatá do útulku byla zcela zdravá. \n",
    "Ale následující vizualizace s využitím nového datového rámce ukazuje, že **více než 18 000** zvířat přijatých do útulku potřebovalo zvláštní péči a nejčastěji lékařskou pomoc. \n",
    "\n",
    "Z toho vyplývá, že v útulku by měl být v každém okamžiku přítomen pracovník, který může zvířeti v nouzi tuto speciální péči poskytnout."
   ]
  },
  {
   "cell_type": "code",
   "execution_count": 36,
   "id": "8b87b4694b7b35e9",
   "metadata": {
    "ExecuteTime": {
     "end_time": "2023-10-22T10:54:05.357636719Z",
     "start_time": "2023-10-22T10:54:05.313441773Z"
    }
   },
   "outputs": [
    {
     "name": "stdout",
     "output_type": "stream",
     "text": [
      "                  Number of adopted animals  Percentage\n",
      "Intake Condition                                       \n",
      "Normal                               119305   86.100386\n",
      "Injured                                7841    5.658716\n",
      "Sick                                   5997    4.327933\n",
      "Nursing                                3932    2.837657\n",
      "Aged                                    463    0.334139\n",
      "Neonatal                                321    0.231660\n",
      "Other                                   245    0.176812\n",
      "Medical                                 174    0.125573\n",
      "Feral                                   125    0.090210\n",
      "Pregnant                                103    0.074333\n",
      "Behavior                                 49    0.035362\n",
      "Space                                     4    0.002887\n",
      "Med Attn                                  3    0.002165\n",
      "Med Urgent                                2    0.001443\n",
      "Panleuk                                   1    0.000722\n"
     ]
    }
   ],
   "source": [
    "condition_counts = intakes['Intake Condition'].value_counts()\n",
    "\n",
    "total_animals = len(intakes)\n",
    "percentage = (condition_counts / total_animals) * 100\n",
    "\n",
    "condition_stats = pd.DataFrame({'Number of adopted animals': condition_counts.values,\n",
    "                                'Percentage': percentage})\n",
    "\n",
    "print(condition_stats)"
   ]
  },
  {
   "cell_type": "markdown",
   "id": "4556c129e7360d94",
   "metadata": {},
   "source": [
    "## Popis příznaku \"Animal Type\""
   ]
  },
  {
   "cell_type": "markdown",
   "id": "7d7ee40d703ad16d",
   "metadata": {},
   "source": [
    "Pomocí sloupcového grafu budeme analyzovat převládající typy zvířat přijatých do útulku."
   ]
  },
  {
   "cell_type": "code",
   "execution_count": 37,
   "id": "ffaf240d4142b52e",
   "metadata": {
    "ExecuteTime": {
     "end_time": "2023-10-22T10:54:05.739076316Z",
     "start_time": "2023-10-22T10:54:05.558666728Z"
    }
   },
   "outputs": [
    {
     "data": {
      "image/png": "[encoded data removed]",
      "text/plain": [
       "<Figure size 720x432 with 1 Axes>"
      ]
     },
     "metadata": {},
     "output_type": "display_data"
    }
   ],
   "source": [
    "type_counts = intakes['Animal Type'].value_counts()\n",
    "\n",
    "plt.figure(figsize=(10, 6))\n",
    "type_counts.plot(kind='bar', color='lightblue')\n",
    "plt.title('Počet zvířat vzhledem k jejich typu')\n",
    "plt.xlabel('Typ zvířat')\n",
    "plt.ylabel('Počet zvířat')\n",
    "plt.xticks(rotation=0)\n",
    "plt.show()"
   ]
  },
  {
   "cell_type": "markdown",
   "id": "decc3431a06ae8b4",
   "metadata": {},
   "source": [
    "* Tato analýza zdůrazňuje, že útulek bude pravděpodobně muset poskytnout více prostředků na péči o psy a kočky a jejich adopci, protože tvoří většinu zvířat, která do útulku přicházejí. \n",
    "* Současně musí útulek brát v úvahu i specifické potřeby a péči o ostatní druhy zvířat."
   ]
  },
  {
   "cell_type": "markdown",
   "id": "e58b6caaa63a6d5b",
   "metadata": {},
   "source": [
    "## Popis vztahu mezi atributy \"Animal Type\" a \"Intake Type\""
   ]
  },
  {
   "cell_type": "code",
   "execution_count": 38,
   "id": "bd3f5038f02b45b8",
   "metadata": {
    "ExecuteTime": {
     "end_time": "2023-10-22T10:54:06.194207291Z",
     "start_time": "2023-10-22T10:54:06.001360073Z"
    }
   },
   "outputs": [
    {
     "data": {
      "image/png": "[encoded data removed]",
      "text/plain": [
       "<Figure size 720x432 with 1 Axes>"
      ]
     },
     "metadata": {},
     "output_type": "display_data"
    }
   ],
   "source": [
    "# Kontingenční tabulka\n",
    "contingency_table = pd.crosstab(intakes['Intake Type'], intakes['Animal Type'])\n",
    "\n",
    "# Procentuální rozdělení\n",
    "percentage_distribution = contingency_table.div(contingency_table.sum(1), axis=0)\n",
    "\n",
    "percentage_distribution.plot(kind='bar', stacked=True, figsize=(10, 6))\n",
    "\n",
    "plt.xlabel('Typ přijetí')\n",
    "plt.ylabel('Procentuální rozložení')\n",
    "plt.title('Vztah mezi Druhem zvířete a Typem přijetí')\n",
    "plt.legend(loc='right')\n",
    "plt.xticks(rotation=45)\n",
    "\n",
    "plt.show()\n"
   ]
  },
  {
   "cell_type": "markdown",
   "id": "b867f6e261d8c362",
   "metadata": {},
   "source": [
    "* Téměř všechna zvířata s typem přijetí do útulku \"Wildlife\" jsou to jiná zvířata (tj. ne psi, ne kočky)\n",
    "* Ostatní typy přijetí do útulku většinou sdílejí nejpopulárnější typy zvířat v útulku (psi a kočky)\n",
    "* V případě typu přijetí do útulku \"Abandoned\" jsou kočky a psi přibližně ve stejném procentuálním poměru\n",
    "* V ostatních případech převažují psi"
   ]
  },
  {
   "cell_type": "markdown",
   "id": "3a8de562be495c81",
   "metadata": {},
   "source": [
    "## Závisí typ odchodu zvířete z útulku (Outcome Type) na typu příchodu (Intake Type)?"
   ]
  },
  {
   "cell_type": "code",
   "execution_count": 68,
   "id": "946538d815816758",
   "metadata": {
    "ExecuteTime": {
     "end_time": "2023-10-22T12:51:06.448798246Z",
     "start_time": "2023-10-22T12:51:05.936020366Z"
    }
   },
   "outputs": [
    {
     "data": {
      "image/png": "[encoded data removed]",
      "text/plain": [
       "<Figure size 864x432 with 2 Axes>"
      ]
     },
     "metadata": {},
     "output_type": "display_data"
    }
   ],
   "source": [
    "import seaborn as sns\n",
    "\n",
    "# Spojíme dva datasety na zakladě atributu \"Animal ID\", zdroj https://pandas.pydata.org/pandas-docs/stable/reference/api/pandas.merge.html\n",
    "unique_animals = pd.merge(intakes, outcomes, on=\"Animal ID\", how=\"inner\")\n",
    "\n",
    "# Kontingenční tabulka\n",
    "cross_tab = pd.crosstab(unique_animals[\"Intake Type\"], unique_animals[\"Outcome Type\"])\n",
    "\n",
    "# Vytvoříme heatmap\n",
    "plt.figure(figsize=(12, 6))\n",
    "sns.heatmap(cross_tab, annot=True, fmt='d', cmap=\"YlGnBu\")\n",
    "plt.title(\"Závislost mezi Intake Type a Outcome Type\")\n",
    "plt.xlabel(\"Outcome Type\")\n",
    "plt.ylabel(\"Intake Type\")\n",
    "plt.xticks(rotation=45)\n",
    "plt.show()"
   ]
  },
  {
   "cell_type": "markdown",
   "id": "26e140cce8adf082",
   "metadata": {},
   "source": [
    "Z této vizualizace lze udělat několik zajímavých závislostí:\n",
    "1) Většinu toulavých zvířat nakonec někdo adoptoval.\n",
    "2) Také velké množství toulavých zvířat našlo své majitele a bylo jim vráceno.\n",
    "3) Obecně platí, že většinu zvířat, která opustila útulek, někdo adoptoval"
   ]
  },
  {
   "cell_type": "markdown",
   "id": "9565b701e1fd1b60",
   "metadata": {},
   "source": [
    "## Hraje věk zvířete roli při adopci?"
   ]
  },
  {
   "cell_type": "code",
   "execution_count": 50,
   "id": "9ed7a42ad5302f25",
   "metadata": {
    "ExecuteTime": {
     "end_time": "2023-10-22T11:16:10.989501187Z",
     "start_time": "2023-10-22T11:16:10.829758867Z"
    }
   },
   "outputs": [
    {
     "data": {
      "image/png": "[encoded data removed]",
      "text/plain": [
       "<Figure size 720x432 with 1 Axes>"
      ]
     },
     "metadata": {},
     "output_type": "display_data"
    }
   ],
   "source": [
    "adopted_animals = outcomes[outcomes[\"Outcome Type\"] == \"Adoption\"]\n",
    "\n",
    "plt.figure(figsize=(10, 6))\n",
    "plt.hist(adopted_animals[\"Age upon Outcome\"], bins=20, edgecolor=\"k\")\n",
    "plt.title(\"Věkové rozložení adoptovaných zvířat\")\n",
    "plt.xlabel(\"Věk zvířat\")\n",
    "plt.ylabel(\"Počet adoptovaných zvířat\")\n",
    "plt.show()"
   ]
  },
  {
   "cell_type": "markdown",
   "id": "5f1049a5d2f043d",
   "metadata": {},
   "source": [
    "Po analýze závislosti počtu adoptovaných zvířat na jejich věku lze zajistit, že věk hraje velkou roli. \n",
    "Koneckonců, čím mladší je zvíře, tím větší je šance, že ho někdo adoptuje."
   ]
  },
  {
   "cell_type": "markdown",
   "id": "c03067f234c2917f",
   "metadata": {},
   "source": [
    "## Je příjem zvířat v rámci roku konstantní nebo existují období s větší/nižší zátěží?"
   ]
  },
  {
   "cell_type": "markdown",
   "id": "148cc81e5f653425",
   "metadata": {},
   "source": [
    "Vytvoříme nový atribut, který bude specifikovat, ve které části roku bylo zvíře přijato do útulku."
   ]
  },
  {
   "cell_type": "code",
   "execution_count": 60,
   "id": "3479fc046ecee638",
   "metadata": {
    "ExecuteTime": {
     "end_time": "2023-10-22T11:33:42.591199304Z",
     "start_time": "2023-10-22T11:33:42.533116339Z"
    }
   },
   "outputs": [],
   "source": [
    "intakes[\"The time of year\"] = intakes['DateTime'].dt.month\n",
    "seasons = {\n",
    "    1: \"Winter\",\n",
    "    2: \"Winter\",\n",
    "    3: \"Spring\",\n",
    "    4: \"Spring\",\n",
    "    5: \"Spring\",\n",
    "    6: \"Summer\",\n",
    "    7: \"Summer\",\n",
    "    8: \"Summer\",\n",
    "    9: \"Fall\",\n",
    "    10: \"Fall\",\n",
    "    11: \"Fall\",\n",
    "    12: \"Winter\"\n",
    "}\n",
    "intakes['The time of year'] = intakes['The time of year'].map(seasons)"
   ]
  },
  {
   "cell_type": "code",
   "execution_count": 61,
   "id": "ac937baee80a2590",
   "metadata": {
    "ExecuteTime": {
     "end_time": "2023-10-22T11:33:44.222334090Z",
     "start_time": "2023-10-22T11:33:44.211319375Z"
    }
   },
   "outputs": [
    {
     "data": {
      "text/html": [
       "<div>\n",
       "<style scoped>\n",
       "    .dataframe tbody tr th:only-of-type {\n",
       "        vertical-align: middle;\n",
       "    }\n",
       "\n",
       "    .dataframe tbody tr th {\n",
       "        vertical-align: top;\n",
       "    }\n",
       "\n",
       "    .dataframe thead th {\n",
       "        text-align: right;\n",
       "    }\n",
       "</style>\n",
       "<table border=\"1\" class=\"dataframe\">\n",
       "  <thead>\n",
       "    <tr style=\"text-align: right;\">\n",
       "      <th></th>\n",
       "      <th>Animal ID</th>\n",
       "      <th>Name</th>\n",
       "      <th>DateTime</th>\n",
       "      <th>Found Location</th>\n",
       "      <th>Intake Type</th>\n",
       "      <th>Intake Condition</th>\n",
       "      <th>Animal Type</th>\n",
       "      <th>Sex upon Intake</th>\n",
       "      <th>Age upon Intake</th>\n",
       "      <th>Breed</th>\n",
       "      <th>Color</th>\n",
       "      <th>Day of Intake</th>\n",
       "      <th>The time of year</th>\n",
       "    </tr>\n",
       "  </thead>\n",
       "  <tbody>\n",
       "    <tr>\n",
       "      <th>0</th>\n",
       "      <td>A786884</td>\n",
       "      <td>*Brock</td>\n",
       "      <td>2019-01-03 16:19:00</td>\n",
       "      <td>2501 Magin Meadow Dr in Austin (TX)</td>\n",
       "      <td>Stray</td>\n",
       "      <td>Normal</td>\n",
       "      <td>Dog</td>\n",
       "      <td>Neutered Male</td>\n",
       "      <td>2.0</td>\n",
       "      <td>Beagle Mix</td>\n",
       "      <td>Tricolor</td>\n",
       "      <td>Thursday</td>\n",
       "      <td>Winter</td>\n",
       "    </tr>\n",
       "    <tr>\n",
       "      <th>1</th>\n",
       "      <td>A706918</td>\n",
       "      <td>Belle</td>\n",
       "      <td>2015-07-05 12:59:00</td>\n",
       "      <td>9409 Bluegrass Dr in Austin (TX)</td>\n",
       "      <td>Stray</td>\n",
       "      <td>Normal</td>\n",
       "      <td>Dog</td>\n",
       "      <td>Spayed Female</td>\n",
       "      <td>8.0</td>\n",
       "      <td>English Springer Spaniel</td>\n",
       "      <td>White/Liver</td>\n",
       "      <td>Sunday</td>\n",
       "      <td>Summer</td>\n",
       "    </tr>\n",
       "    <tr>\n",
       "      <th>2</th>\n",
       "      <td>A724273</td>\n",
       "      <td>Runster</td>\n",
       "      <td>2016-04-14 18:43:00</td>\n",
       "      <td>2818 Palomino Trail in Austin (TX)</td>\n",
       "      <td>Stray</td>\n",
       "      <td>Normal</td>\n",
       "      <td>Dog</td>\n",
       "      <td>Intact Male</td>\n",
       "      <td>0.9</td>\n",
       "      <td>Basenji Mix</td>\n",
       "      <td>Sable/White</td>\n",
       "      <td>Thursday</td>\n",
       "      <td>Spring</td>\n",
       "    </tr>\n",
       "    <tr>\n",
       "      <th>3</th>\n",
       "      <td>A665644</td>\n",
       "      <td>NaN</td>\n",
       "      <td>2013-10-21 07:59:00</td>\n",
       "      <td>Austin (TX)</td>\n",
       "      <td>Stray</td>\n",
       "      <td>Sick</td>\n",
       "      <td>Cat</td>\n",
       "      <td>Intact Female</td>\n",
       "      <td>0.1</td>\n",
       "      <td>Domestic Shorthair Mix</td>\n",
       "      <td>Calico</td>\n",
       "      <td>Monday</td>\n",
       "      <td>Fall</td>\n",
       "    </tr>\n",
       "    <tr>\n",
       "      <th>4</th>\n",
       "      <td>A682524</td>\n",
       "      <td>Rio</td>\n",
       "      <td>2014-06-29 10:38:00</td>\n",
       "      <td>800 Grove Blvd in Austin (TX)</td>\n",
       "      <td>Stray</td>\n",
       "      <td>Normal</td>\n",
       "      <td>Dog</td>\n",
       "      <td>Neutered Male</td>\n",
       "      <td>4.0</td>\n",
       "      <td>Doberman Pinsch/Australian Cattle Dog</td>\n",
       "      <td>Tan/Gray</td>\n",
       "      <td>Sunday</td>\n",
       "      <td>Summer</td>\n",
       "    </tr>\n",
       "  </tbody>\n",
       "</table>\n",
       "</div>"
      ],
      "text/plain": [
       "  Animal ID     Name            DateTime                       Found Location  \\\n",
       "0   A786884   *Brock 2019-01-03 16:19:00  2501 Magin Meadow Dr in Austin (TX)   \n",
       "1   A706918    Belle 2015-07-05 12:59:00     9409 Bluegrass Dr in Austin (TX)   \n",
       "2   A724273  Runster 2016-04-14 18:43:00   2818 Palomino Trail in Austin (TX)   \n",
       "3   A665644      NaN 2013-10-21 07:59:00                          Austin (TX)   \n",
       "4   A682524      Rio 2014-06-29 10:38:00        800 Grove Blvd in Austin (TX)   \n",
       "\n",
       "  Intake Type Intake Condition Animal Type Sex upon Intake  Age upon Intake  \\\n",
       "0       Stray           Normal         Dog   Neutered Male              2.0   \n",
       "1       Stray           Normal         Dog   Spayed Female              8.0   \n",
       "2       Stray           Normal         Dog     Intact Male              0.9   \n",
       "3       Stray             Sick         Cat   Intact Female              0.1   \n",
       "4       Stray           Normal         Dog   Neutered Male              4.0   \n",
       "\n",
       "                                   Breed        Color Day of Intake  \\\n",
       "0                             Beagle Mix     Tricolor      Thursday   \n",
       "1               English Springer Spaniel  White/Liver        Sunday   \n",
       "2                            Basenji Mix  Sable/White      Thursday   \n",
       "3                 Domestic Shorthair Mix       Calico        Monday   \n",
       "4  Doberman Pinsch/Australian Cattle Dog     Tan/Gray        Sunday   \n",
       "\n",
       "  The time of year  \n",
       "0           Winter  \n",
       "1           Summer  \n",
       "2           Spring  \n",
       "3             Fall  \n",
       "4           Summer  "
      ]
     },
     "execution_count": 61,
     "metadata": {},
     "output_type": "execute_result"
    }
   ],
   "source": [
    "intakes.head()"
   ]
  },
  {
   "cell_type": "code",
   "execution_count": 63,
   "id": "fedc562ab34f0b9b",
   "metadata": {
    "ExecuteTime": {
     "end_time": "2023-10-22T11:39:42.974157196Z",
     "start_time": "2023-10-22T11:39:42.883343459Z"
    }
   },
   "outputs": [
    {
     "data": {
      "image/png": "[encoded data removed]",
      "text/plain": [
       "<Figure size 720x432 with 1 Axes>"
      ]
     },
     "metadata": {},
     "output_type": "display_data"
    }
   ],
   "source": [
    "counts = intakes['The time of year'].value_counts()\n",
    "\n",
    "plt.figure(figsize=(10, 6))\n",
    "counts.plot(kind='bar', color='lightblue')\n",
    "plt.xlabel('Roční období')\n",
    "plt.ylabel('Počet zvířat')\n",
    "plt.title('Počet zvířat přijatých do útulku podle ročního období')\n",
    "plt.xticks(rotation=0)\n",
    "plt.show()"
   ]
  },
  {
   "cell_type": "markdown",
   "id": "4d7fda4332625029",
   "metadata": {},
   "source": [
    "V letním období bylo do útulku přijato nejvíce zvířat. Toto množství se výrazně liší od počtu přijatých zvířat v zimním období roku, takže přijetí zvířat do útulku během roku není konstantní."
   ]
  },
  {
   "cell_type": "code",
   "execution_count": null,
   "id": "69e033a2b4d4de4b",
   "metadata": {},
   "outputs": [],
   "source": []
  }
 ],
 "metadata": {
  "kernelspec": {
   "display_name": "Python 3 (ipykernel)",
   "language": "python",
   "name": "python3"
  },
  "language_info": {
   "codemirror_mode": {
    "name": "ipython",
    "version": 3
   },
   "file_extension": ".py",
   "mimetype": "text/x-python",
   "name": "python",
   "nbconvert_exporter": "python",
   "pygments_lexer": "ipython3",
   "version": "3.10.12"
  }
 },
 "nbformat": 4,
 "nbformat_minor": 5
}
